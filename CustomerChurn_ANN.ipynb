{
  "nbformat": 4,
  "nbformat_minor": 0,
  "metadata": {
    "colab": {
      "name": "CustomerChurn-ANN.ipynb",
      "provenance": [],
      "collapsed_sections": []
    },
    "kernelspec": {
      "name": "python3",
      "display_name": "Python 3"
    },
    "language_info": {
      "name": "python"
    }
  },
  "cells": [
    {
      "cell_type": "code",
      "execution_count": 1,
      "metadata": {
        "id": "VfTcw7WfxTv4"
      },
      "outputs": [],
      "source": [
        "import pandas as pd\n",
        "import numpy as np"
      ]
    },
    {
      "cell_type": "code",
      "source": [
        "from google.colab import files\n",
        "uploaded = files.upload()"
      ],
      "metadata": {
        "colab": {
          "resources": {
            "http://localhost:8080/nbextensions/google.colab/files.js": {
              "data": "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",
              "ok": true,
              "headers": [
                [
                  "content-type",
                  "application/javascript"
                ]
              ],
              "status": 200,
              "status_text": ""
            }
          },
          "base_uri": "https://localhost:8080/",
          "height": 73
        },
        "id": "HepdPGnCx4U9",
        "outputId": "5061adb1-be5d-4629-d7d3-a760b6402fea"
      },
      "execution_count": 3,
      "outputs": [
        {
          "output_type": "display_data",
          "data": {
            "text/plain": [
              "<IPython.core.display.HTML object>"
            ],
            "text/html": [
              "\n",
              "     <input type=\"file\" id=\"files-0835b444-6772-4755-9249-5cc1efb286aa\" name=\"files[]\" multiple disabled\n",
              "        style=\"border:none\" />\n",
              "     <output id=\"result-0835b444-6772-4755-9249-5cc1efb286aa\">\n",
              "      Upload widget is only available when the cell has been executed in the\n",
              "      current browser session. Please rerun this cell to enable.\n",
              "      </output>\n",
              "      <script src=\"/nbextensions/google.colab/files.js\"></script> "
            ]
          },
          "metadata": {}
        },
        {
          "output_type": "stream",
          "name": "stdout",
          "text": [
            "Saving Churn_Modelling.csv to Churn_Modelling.csv\n"
          ]
        }
      ]
    },
    {
      "cell_type": "code",
      "source": [
        "import io\n",
        "\n",
        "df = pd.read_csv(io.BytesIO(uploaded['Churn_Modelling.csv']))"
      ],
      "metadata": {
        "id": "RaF9njy0yfKP"
      },
      "execution_count": 5,
      "outputs": []
    },
    {
      "cell_type": "code",
      "source": [
        "df.head()"
      ],
      "metadata": {
        "colab": {
          "base_uri": "https://localhost:8080/",
          "height": 206
        },
        "id": "quoWj175zAL2",
        "outputId": "33807d38-f8dc-43a8-acdc-858f3056a1b9"
      },
      "execution_count": 6,
      "outputs": [
        {
          "output_type": "execute_result",
          "data": {
            "text/plain": [
              "   RowNumber  CustomerId   Surname  CreditScore Geography  Gender  Age  \\\n",
              "0          1    15634602  Hargrave          619    France  Female   42   \n",
              "1          2    15647311      Hill          608     Spain  Female   41   \n",
              "2          3    15619304      Onio          502    France  Female   42   \n",
              "3          4    15701354      Boni          699    France  Female   39   \n",
              "4          5    15737888  Mitchell          850     Spain  Female   43   \n",
              "\n",
              "   Tenure    Balance  NumOfProducts  HasCrCard  IsActiveMember  \\\n",
              "0       2       0.00              1          1               1   \n",
              "1       1   83807.86              1          0               1   \n",
              "2       8  159660.80              3          1               0   \n",
              "3       1       0.00              2          0               0   \n",
              "4       2  125510.82              1          1               1   \n",
              "\n",
              "   EstimatedSalary  Exited  \n",
              "0        101348.88       1  \n",
              "1        112542.58       0  \n",
              "2        113931.57       1  \n",
              "3         93826.63       0  \n",
              "4         79084.10       0  "
            ],
            "text/html": [
              "\n",
              "  <div id=\"df-1f9e248d-32d0-44a3-82aa-dd72693d45f4\">\n",
              "    <div class=\"colab-df-container\">\n",
              "      <div>\n",
              "<style scoped>\n",
              "    .dataframe tbody tr th:only-of-type {\n",
              "        vertical-align: middle;\n",
              "    }\n",
              "\n",
              "    .dataframe tbody tr th {\n",
              "        vertical-align: top;\n",
              "    }\n",
              "\n",
              "    .dataframe thead th {\n",
              "        text-align: right;\n",
              "    }\n",
              "</style>\n",
              "<table border=\"1\" class=\"dataframe\">\n",
              "  <thead>\n",
              "    <tr style=\"text-align: right;\">\n",
              "      <th></th>\n",
              "      <th>RowNumber</th>\n",
              "      <th>CustomerId</th>\n",
              "      <th>Surname</th>\n",
              "      <th>CreditScore</th>\n",
              "      <th>Geography</th>\n",
              "      <th>Gender</th>\n",
              "      <th>Age</th>\n",
              "      <th>Tenure</th>\n",
              "      <th>Balance</th>\n",
              "      <th>NumOfProducts</th>\n",
              "      <th>HasCrCard</th>\n",
              "      <th>IsActiveMember</th>\n",
              "      <th>EstimatedSalary</th>\n",
              "      <th>Exited</th>\n",
              "    </tr>\n",
              "  </thead>\n",
              "  <tbody>\n",
              "    <tr>\n",
              "      <th>0</th>\n",
              "      <td>1</td>\n",
              "      <td>15634602</td>\n",
              "      <td>Hargrave</td>\n",
              "      <td>619</td>\n",
              "      <td>France</td>\n",
              "      <td>Female</td>\n",
              "      <td>42</td>\n",
              "      <td>2</td>\n",
              "      <td>0.00</td>\n",
              "      <td>1</td>\n",
              "      <td>1</td>\n",
              "      <td>1</td>\n",
              "      <td>101348.88</td>\n",
              "      <td>1</td>\n",
              "    </tr>\n",
              "    <tr>\n",
              "      <th>1</th>\n",
              "      <td>2</td>\n",
              "      <td>15647311</td>\n",
              "      <td>Hill</td>\n",
              "      <td>608</td>\n",
              "      <td>Spain</td>\n",
              "      <td>Female</td>\n",
              "      <td>41</td>\n",
              "      <td>1</td>\n",
              "      <td>83807.86</td>\n",
              "      <td>1</td>\n",
              "      <td>0</td>\n",
              "      <td>1</td>\n",
              "      <td>112542.58</td>\n",
              "      <td>0</td>\n",
              "    </tr>\n",
              "    <tr>\n",
              "      <th>2</th>\n",
              "      <td>3</td>\n",
              "      <td>15619304</td>\n",
              "      <td>Onio</td>\n",
              "      <td>502</td>\n",
              "      <td>France</td>\n",
              "      <td>Female</td>\n",
              "      <td>42</td>\n",
              "      <td>8</td>\n",
              "      <td>159660.80</td>\n",
              "      <td>3</td>\n",
              "      <td>1</td>\n",
              "      <td>0</td>\n",
              "      <td>113931.57</td>\n",
              "      <td>1</td>\n",
              "    </tr>\n",
              "    <tr>\n",
              "      <th>3</th>\n",
              "      <td>4</td>\n",
              "      <td>15701354</td>\n",
              "      <td>Boni</td>\n",
              "      <td>699</td>\n",
              "      <td>France</td>\n",
              "      <td>Female</td>\n",
              "      <td>39</td>\n",
              "      <td>1</td>\n",
              "      <td>0.00</td>\n",
              "      <td>2</td>\n",
              "      <td>0</td>\n",
              "      <td>0</td>\n",
              "      <td>93826.63</td>\n",
              "      <td>0</td>\n",
              "    </tr>\n",
              "    <tr>\n",
              "      <th>4</th>\n",
              "      <td>5</td>\n",
              "      <td>15737888</td>\n",
              "      <td>Mitchell</td>\n",
              "      <td>850</td>\n",
              "      <td>Spain</td>\n",
              "      <td>Female</td>\n",
              "      <td>43</td>\n",
              "      <td>2</td>\n",
              "      <td>125510.82</td>\n",
              "      <td>1</td>\n",
              "      <td>1</td>\n",
              "      <td>1</td>\n",
              "      <td>79084.10</td>\n",
              "      <td>0</td>\n",
              "    </tr>\n",
              "  </tbody>\n",
              "</table>\n",
              "</div>\n",
              "      <button class=\"colab-df-convert\" onclick=\"convertToInteractive('df-1f9e248d-32d0-44a3-82aa-dd72693d45f4')\"\n",
              "              title=\"Convert this dataframe to an interactive table.\"\n",
              "              style=\"display:none;\">\n",
              "        \n",
              "  <svg xmlns=\"http://www.w3.org/2000/svg\" height=\"24px\"viewBox=\"0 0 24 24\"\n",
              "       width=\"24px\">\n",
              "    <path d=\"M0 0h24v24H0V0z\" fill=\"none\"/>\n",
              "    <path d=\"M18.56 5.44l.94 2.06.94-2.06 2.06-.94-2.06-.94-.94-2.06-.94 2.06-2.06.94zm-11 1L8.5 8.5l.94-2.06 2.06-.94-2.06-.94L8.5 2.5l-.94 2.06-2.06.94zm10 10l.94 2.06.94-2.06 2.06-.94-2.06-.94-.94-2.06-.94 2.06-2.06.94z\"/><path d=\"M17.41 7.96l-1.37-1.37c-.4-.4-.92-.59-1.43-.59-.52 0-1.04.2-1.43.59L10.3 9.45l-7.72 7.72c-.78.78-.78 2.05 0 2.83L4 21.41c.39.39.9.59 1.41.59.51 0 1.02-.2 1.41-.59l7.78-7.78 2.81-2.81c.8-.78.8-2.07 0-2.86zM5.41 20L4 18.59l7.72-7.72 1.47 1.35L5.41 20z\"/>\n",
              "  </svg>\n",
              "      </button>\n",
              "      \n",
              "  <style>\n",
              "    .colab-df-container {\n",
              "      display:flex;\n",
              "      flex-wrap:wrap;\n",
              "      gap: 12px;\n",
              "    }\n",
              "\n",
              "    .colab-df-convert {\n",
              "      background-color: #E8F0FE;\n",
              "      border: none;\n",
              "      border-radius: 50%;\n",
              "      cursor: pointer;\n",
              "      display: none;\n",
              "      fill: #1967D2;\n",
              "      height: 32px;\n",
              "      padding: 0 0 0 0;\n",
              "      width: 32px;\n",
              "    }\n",
              "\n",
              "    .colab-df-convert:hover {\n",
              "      background-color: #E2EBFA;\n",
              "      box-shadow: 0px 1px 2px rgba(60, 64, 67, 0.3), 0px 1px 3px 1px rgba(60, 64, 67, 0.15);\n",
              "      fill: #174EA6;\n",
              "    }\n",
              "\n",
              "    [theme=dark] .colab-df-convert {\n",
              "      background-color: #3B4455;\n",
              "      fill: #D2E3FC;\n",
              "    }\n",
              "\n",
              "    [theme=dark] .colab-df-convert:hover {\n",
              "      background-color: #434B5C;\n",
              "      box-shadow: 0px 1px 3px 1px rgba(0, 0, 0, 0.15);\n",
              "      filter: drop-shadow(0px 1px 2px rgba(0, 0, 0, 0.3));\n",
              "      fill: #FFFFFF;\n",
              "    }\n",
              "  </style>\n",
              "\n",
              "      <script>\n",
              "        const buttonEl =\n",
              "          document.querySelector('#df-1f9e248d-32d0-44a3-82aa-dd72693d45f4 button.colab-df-convert');\n",
              "        buttonEl.style.display =\n",
              "          google.colab.kernel.accessAllowed ? 'block' : 'none';\n",
              "\n",
              "        async function convertToInteractive(key) {\n",
              "          const element = document.querySelector('#df-1f9e248d-32d0-44a3-82aa-dd72693d45f4');\n",
              "          const dataTable =\n",
              "            await google.colab.kernel.invokeFunction('convertToInteractive',\n",
              "                                                     [key], {});\n",
              "          if (!dataTable) return;\n",
              "\n",
              "          const docLinkHtml = 'Like what you see? Visit the ' +\n",
              "            '<a target=\"_blank\" href=https://colab.research.google.com/notebooks/data_table.ipynb>data table notebook</a>'\n",
              "            + ' to learn more about interactive tables.';\n",
              "          element.innerHTML = '';\n",
              "          dataTable['output_type'] = 'display_data';\n",
              "          await google.colab.output.renderOutput(dataTable, element);\n",
              "          const docLink = document.createElement('div');\n",
              "          docLink.innerHTML = docLinkHtml;\n",
              "          element.appendChild(docLink);\n",
              "        }\n",
              "      </script>\n",
              "    </div>\n",
              "  </div>\n",
              "  "
            ]
          },
          "metadata": {},
          "execution_count": 6
        }
      ]
    },
    {
      "cell_type": "code",
      "source": [
        "df.drop(columns=['RowNumber', 'CustomerId'], inplace=True)"
      ],
      "metadata": {
        "id": "PzWNzObtzG0P"
      },
      "execution_count": 7,
      "outputs": []
    },
    {
      "cell_type": "code",
      "source": [
        "df = pd.get_dummies(df,columns=['Geography', 'Gender'], drop_first=True)"
      ],
      "metadata": {
        "id": "mBzuskruzRam"
      },
      "execution_count": 8,
      "outputs": []
    },
    {
      "cell_type": "code",
      "source": [
        "df.head()"
      ],
      "metadata": {
        "colab": {
          "base_uri": "https://localhost:8080/",
          "height": 215
        },
        "id": "TRh6xGgJzl8y",
        "outputId": "b9364ad5-5c9f-4333-814e-e1486d72d0b6"
      },
      "execution_count": 9,
      "outputs": [
        {
          "output_type": "execute_result",
          "data": {
            "text/plain": [
              "    Surname  CreditScore  Age  Tenure    Balance  NumOfProducts  HasCrCard  \\\n",
              "0  Hargrave          619   42       2       0.00              1          1   \n",
              "1      Hill          608   41       1   83807.86              1          0   \n",
              "2      Onio          502   42       8  159660.80              3          1   \n",
              "3      Boni          699   39       1       0.00              2          0   \n",
              "4  Mitchell          850   43       2  125510.82              1          1   \n",
              "\n",
              "   IsActiveMember  EstimatedSalary  Exited  Geography_Germany  \\\n",
              "0               1        101348.88       1                  0   \n",
              "1               1        112542.58       0                  0   \n",
              "2               0        113931.57       1                  0   \n",
              "3               0         93826.63       0                  0   \n",
              "4               1         79084.10       0                  0   \n",
              "\n",
              "   Geography_Spain  Gender_Male  \n",
              "0                0            0  \n",
              "1                1            0  \n",
              "2                0            0  \n",
              "3                0            0  \n",
              "4                1            0  "
            ],
            "text/html": [
              "\n",
              "  <div id=\"df-c3e7c7c1-2eb5-4c2e-ac8f-1f02fd1f0414\">\n",
              "    <div class=\"colab-df-container\">\n",
              "      <div>\n",
              "<style scoped>\n",
              "    .dataframe tbody tr th:only-of-type {\n",
              "        vertical-align: middle;\n",
              "    }\n",
              "\n",
              "    .dataframe tbody tr th {\n",
              "        vertical-align: top;\n",
              "    }\n",
              "\n",
              "    .dataframe thead th {\n",
              "        text-align: right;\n",
              "    }\n",
              "</style>\n",
              "<table border=\"1\" class=\"dataframe\">\n",
              "  <thead>\n",
              "    <tr style=\"text-align: right;\">\n",
              "      <th></th>\n",
              "      <th>Surname</th>\n",
              "      <th>CreditScore</th>\n",
              "      <th>Age</th>\n",
              "      <th>Tenure</th>\n",
              "      <th>Balance</th>\n",
              "      <th>NumOfProducts</th>\n",
              "      <th>HasCrCard</th>\n",
              "      <th>IsActiveMember</th>\n",
              "      <th>EstimatedSalary</th>\n",
              "      <th>Exited</th>\n",
              "      <th>Geography_Germany</th>\n",
              "      <th>Geography_Spain</th>\n",
              "      <th>Gender_Male</th>\n",
              "    </tr>\n",
              "  </thead>\n",
              "  <tbody>\n",
              "    <tr>\n",
              "      <th>0</th>\n",
              "      <td>Hargrave</td>\n",
              "      <td>619</td>\n",
              "      <td>42</td>\n",
              "      <td>2</td>\n",
              "      <td>0.00</td>\n",
              "      <td>1</td>\n",
              "      <td>1</td>\n",
              "      <td>1</td>\n",
              "      <td>101348.88</td>\n",
              "      <td>1</td>\n",
              "      <td>0</td>\n",
              "      <td>0</td>\n",
              "      <td>0</td>\n",
              "    </tr>\n",
              "    <tr>\n",
              "      <th>1</th>\n",
              "      <td>Hill</td>\n",
              "      <td>608</td>\n",
              "      <td>41</td>\n",
              "      <td>1</td>\n",
              "      <td>83807.86</td>\n",
              "      <td>1</td>\n",
              "      <td>0</td>\n",
              "      <td>1</td>\n",
              "      <td>112542.58</td>\n",
              "      <td>0</td>\n",
              "      <td>0</td>\n",
              "      <td>1</td>\n",
              "      <td>0</td>\n",
              "    </tr>\n",
              "    <tr>\n",
              "      <th>2</th>\n",
              "      <td>Onio</td>\n",
              "      <td>502</td>\n",
              "      <td>42</td>\n",
              "      <td>8</td>\n",
              "      <td>159660.80</td>\n",
              "      <td>3</td>\n",
              "      <td>1</td>\n",
              "      <td>0</td>\n",
              "      <td>113931.57</td>\n",
              "      <td>1</td>\n",
              "      <td>0</td>\n",
              "      <td>0</td>\n",
              "      <td>0</td>\n",
              "    </tr>\n",
              "    <tr>\n",
              "      <th>3</th>\n",
              "      <td>Boni</td>\n",
              "      <td>699</td>\n",
              "      <td>39</td>\n",
              "      <td>1</td>\n",
              "      <td>0.00</td>\n",
              "      <td>2</td>\n",
              "      <td>0</td>\n",
              "      <td>0</td>\n",
              "      <td>93826.63</td>\n",
              "      <td>0</td>\n",
              "      <td>0</td>\n",
              "      <td>0</td>\n",
              "      <td>0</td>\n",
              "    </tr>\n",
              "    <tr>\n",
              "      <th>4</th>\n",
              "      <td>Mitchell</td>\n",
              "      <td>850</td>\n",
              "      <td>43</td>\n",
              "      <td>2</td>\n",
              "      <td>125510.82</td>\n",
              "      <td>1</td>\n",
              "      <td>1</td>\n",
              "      <td>1</td>\n",
              "      <td>79084.10</td>\n",
              "      <td>0</td>\n",
              "      <td>0</td>\n",
              "      <td>1</td>\n",
              "      <td>0</td>\n",
              "    </tr>\n",
              "  </tbody>\n",
              "</table>\n",
              "</div>\n",
              "      <button class=\"colab-df-convert\" onclick=\"convertToInteractive('df-c3e7c7c1-2eb5-4c2e-ac8f-1f02fd1f0414')\"\n",
              "              title=\"Convert this dataframe to an interactive table.\"\n",
              "              style=\"display:none;\">\n",
              "        \n",
              "  <svg xmlns=\"http://www.w3.org/2000/svg\" height=\"24px\"viewBox=\"0 0 24 24\"\n",
              "       width=\"24px\">\n",
              "    <path d=\"M0 0h24v24H0V0z\" fill=\"none\"/>\n",
              "    <path d=\"M18.56 5.44l.94 2.06.94-2.06 2.06-.94-2.06-.94-.94-2.06-.94 2.06-2.06.94zm-11 1L8.5 8.5l.94-2.06 2.06-.94-2.06-.94L8.5 2.5l-.94 2.06-2.06.94zm10 10l.94 2.06.94-2.06 2.06-.94-2.06-.94-.94-2.06-.94 2.06-2.06.94z\"/><path d=\"M17.41 7.96l-1.37-1.37c-.4-.4-.92-.59-1.43-.59-.52 0-1.04.2-1.43.59L10.3 9.45l-7.72 7.72c-.78.78-.78 2.05 0 2.83L4 21.41c.39.39.9.59 1.41.59.51 0 1.02-.2 1.41-.59l7.78-7.78 2.81-2.81c.8-.78.8-2.07 0-2.86zM5.41 20L4 18.59l7.72-7.72 1.47 1.35L5.41 20z\"/>\n",
              "  </svg>\n",
              "      </button>\n",
              "      \n",
              "  <style>\n",
              "    .colab-df-container {\n",
              "      display:flex;\n",
              "      flex-wrap:wrap;\n",
              "      gap: 12px;\n",
              "    }\n",
              "\n",
              "    .colab-df-convert {\n",
              "      background-color: #E8F0FE;\n",
              "      border: none;\n",
              "      border-radius: 50%;\n",
              "      cursor: pointer;\n",
              "      display: none;\n",
              "      fill: #1967D2;\n",
              "      height: 32px;\n",
              "      padding: 0 0 0 0;\n",
              "      width: 32px;\n",
              "    }\n",
              "\n",
              "    .colab-df-convert:hover {\n",
              "      background-color: #E2EBFA;\n",
              "      box-shadow: 0px 1px 2px rgba(60, 64, 67, 0.3), 0px 1px 3px 1px rgba(60, 64, 67, 0.15);\n",
              "      fill: #174EA6;\n",
              "    }\n",
              "\n",
              "    [theme=dark] .colab-df-convert {\n",
              "      background-color: #3B4455;\n",
              "      fill: #D2E3FC;\n",
              "    }\n",
              "\n",
              "    [theme=dark] .colab-df-convert:hover {\n",
              "      background-color: #434B5C;\n",
              "      box-shadow: 0px 1px 3px 1px rgba(0, 0, 0, 0.15);\n",
              "      filter: drop-shadow(0px 1px 2px rgba(0, 0, 0, 0.3));\n",
              "      fill: #FFFFFF;\n",
              "    }\n",
              "  </style>\n",
              "\n",
              "      <script>\n",
              "        const buttonEl =\n",
              "          document.querySelector('#df-c3e7c7c1-2eb5-4c2e-ac8f-1f02fd1f0414 button.colab-df-convert');\n",
              "        buttonEl.style.display =\n",
              "          google.colab.kernel.accessAllowed ? 'block' : 'none';\n",
              "\n",
              "        async function convertToInteractive(key) {\n",
              "          const element = document.querySelector('#df-c3e7c7c1-2eb5-4c2e-ac8f-1f02fd1f0414');\n",
              "          const dataTable =\n",
              "            await google.colab.kernel.invokeFunction('convertToInteractive',\n",
              "                                                     [key], {});\n",
              "          if (!dataTable) return;\n",
              "\n",
              "          const docLinkHtml = 'Like what you see? Visit the ' +\n",
              "            '<a target=\"_blank\" href=https://colab.research.google.com/notebooks/data_table.ipynb>data table notebook</a>'\n",
              "            + ' to learn more about interactive tables.';\n",
              "          element.innerHTML = '';\n",
              "          dataTable['output_type'] = 'display_data';\n",
              "          await google.colab.output.renderOutput(dataTable, element);\n",
              "          const docLink = document.createElement('div');\n",
              "          docLink.innerHTML = docLinkHtml;\n",
              "          element.appendChild(docLink);\n",
              "        }\n",
              "      </script>\n",
              "    </div>\n",
              "  </div>\n",
              "  "
            ]
          },
          "metadata": {},
          "execution_count": 9
        }
      ]
    },
    {
      "cell_type": "code",
      "source": [
        "df.shape"
      ],
      "metadata": {
        "colab": {
          "base_uri": "https://localhost:8080/"
        },
        "id": "OE27L-BP0PE_",
        "outputId": "48b40d4e-5729-4da3-b6f3-46879e6adb67"
      },
      "execution_count": 15,
      "outputs": [
        {
          "output_type": "execute_result",
          "data": {
            "text/plain": [
              "(10000, 13)"
            ]
          },
          "metadata": {},
          "execution_count": 15
        }
      ]
    },
    {
      "cell_type": "code",
      "source": [
        "import matplotlib.pyplot as plt\n",
        "import seaborn as sns\n",
        "%matplotlib inline"
      ],
      "metadata": {
        "id": "KkjMjy2Nzm-y"
      },
      "execution_count": 11,
      "outputs": []
    },
    {
      "cell_type": "code",
      "source": [
        "df.info()"
      ],
      "metadata": {
        "colab": {
          "base_uri": "https://localhost:8080/"
        },
        "id": "tht8KoQ-z8ba",
        "outputId": "1d49a085-253c-451d-ba20-888c5645b53c"
      },
      "execution_count": 18,
      "outputs": [
        {
          "output_type": "stream",
          "name": "stdout",
          "text": [
            "<class 'pandas.core.frame.DataFrame'>\n",
            "RangeIndex: 10000 entries, 0 to 9999\n",
            "Data columns (total 13 columns):\n",
            " #   Column             Non-Null Count  Dtype  \n",
            "---  ------             --------------  -----  \n",
            " 0   Surname            10000 non-null  object \n",
            " 1   CreditScore        10000 non-null  int64  \n",
            " 2   Age                10000 non-null  int64  \n",
            " 3   Tenure             10000 non-null  int64  \n",
            " 4   Balance            10000 non-null  float64\n",
            " 5   NumOfProducts      10000 non-null  int64  \n",
            " 6   HasCrCard          10000 non-null  int64  \n",
            " 7   IsActiveMember     10000 non-null  int64  \n",
            " 8   EstimatedSalary    10000 non-null  float64\n",
            " 9   Exited             10000 non-null  int64  \n",
            " 10  Geography_Germany  10000 non-null  uint8  \n",
            " 11  Geography_Spain    10000 non-null  uint8  \n",
            " 12  Gender_Male        10000 non-null  uint8  \n",
            "dtypes: float64(2), int64(7), object(1), uint8(3)\n",
            "memory usage: 810.7+ KB\n"
          ]
        }
      ]
    },
    {
      "cell_type": "code",
      "source": [
        "df.drop(columns='Surname',inplace=True)"
      ],
      "metadata": {
        "id": "zwCKe5BW20IE"
      },
      "execution_count": 30,
      "outputs": []
    },
    {
      "cell_type": "code",
      "source": [
        "df.head()"
      ],
      "metadata": {
        "colab": {
          "base_uri": "https://localhost:8080/",
          "height": 206
        },
        "id": "o0t6HheM3EuY",
        "outputId": "fdd42088-4e0f-463a-e188-4ad3f10478b1"
      },
      "execution_count": 31,
      "outputs": [
        {
          "output_type": "execute_result",
          "data": {
            "text/plain": [
              "   CreditScore  Age  Tenure    Balance  NumOfProducts  HasCrCard  \\\n",
              "0          619   42       2       0.00              1          1   \n",
              "1          608   41       1   83807.86              1          0   \n",
              "2          502   42       8  159660.80              3          1   \n",
              "3          699   39       1       0.00              2          0   \n",
              "4          850   43       2  125510.82              1          1   \n",
              "\n",
              "   IsActiveMember  EstimatedSalary  Exited  Geography_Germany  \\\n",
              "0               1        101348.88       1                  0   \n",
              "1               1        112542.58       0                  0   \n",
              "2               0        113931.57       1                  0   \n",
              "3               0         93826.63       0                  0   \n",
              "4               1         79084.10       0                  0   \n",
              "\n",
              "   Geography_Spain  Gender_Male  \n",
              "0                0            0  \n",
              "1                1            0  \n",
              "2                0            0  \n",
              "3                0            0  \n",
              "4                1            0  "
            ],
            "text/html": [
              "\n",
              "  <div id=\"df-a8931e99-8b17-4a7a-84c0-2e9106b14d06\">\n",
              "    <div class=\"colab-df-container\">\n",
              "      <div>\n",
              "<style scoped>\n",
              "    .dataframe tbody tr th:only-of-type {\n",
              "        vertical-align: middle;\n",
              "    }\n",
              "\n",
              "    .dataframe tbody tr th {\n",
              "        vertical-align: top;\n",
              "    }\n",
              "\n",
              "    .dataframe thead th {\n",
              "        text-align: right;\n",
              "    }\n",
              "</style>\n",
              "<table border=\"1\" class=\"dataframe\">\n",
              "  <thead>\n",
              "    <tr style=\"text-align: right;\">\n",
              "      <th></th>\n",
              "      <th>CreditScore</th>\n",
              "      <th>Age</th>\n",
              "      <th>Tenure</th>\n",
              "      <th>Balance</th>\n",
              "      <th>NumOfProducts</th>\n",
              "      <th>HasCrCard</th>\n",
              "      <th>IsActiveMember</th>\n",
              "      <th>EstimatedSalary</th>\n",
              "      <th>Exited</th>\n",
              "      <th>Geography_Germany</th>\n",
              "      <th>Geography_Spain</th>\n",
              "      <th>Gender_Male</th>\n",
              "    </tr>\n",
              "  </thead>\n",
              "  <tbody>\n",
              "    <tr>\n",
              "      <th>0</th>\n",
              "      <td>619</td>\n",
              "      <td>42</td>\n",
              "      <td>2</td>\n",
              "      <td>0.00</td>\n",
              "      <td>1</td>\n",
              "      <td>1</td>\n",
              "      <td>1</td>\n",
              "      <td>101348.88</td>\n",
              "      <td>1</td>\n",
              "      <td>0</td>\n",
              "      <td>0</td>\n",
              "      <td>0</td>\n",
              "    </tr>\n",
              "    <tr>\n",
              "      <th>1</th>\n",
              "      <td>608</td>\n",
              "      <td>41</td>\n",
              "      <td>1</td>\n",
              "      <td>83807.86</td>\n",
              "      <td>1</td>\n",
              "      <td>0</td>\n",
              "      <td>1</td>\n",
              "      <td>112542.58</td>\n",
              "      <td>0</td>\n",
              "      <td>0</td>\n",
              "      <td>1</td>\n",
              "      <td>0</td>\n",
              "    </tr>\n",
              "    <tr>\n",
              "      <th>2</th>\n",
              "      <td>502</td>\n",
              "      <td>42</td>\n",
              "      <td>8</td>\n",
              "      <td>159660.80</td>\n",
              "      <td>3</td>\n",
              "      <td>1</td>\n",
              "      <td>0</td>\n",
              "      <td>113931.57</td>\n",
              "      <td>1</td>\n",
              "      <td>0</td>\n",
              "      <td>0</td>\n",
              "      <td>0</td>\n",
              "    </tr>\n",
              "    <tr>\n",
              "      <th>3</th>\n",
              "      <td>699</td>\n",
              "      <td>39</td>\n",
              "      <td>1</td>\n",
              "      <td>0.00</td>\n",
              "      <td>2</td>\n",
              "      <td>0</td>\n",
              "      <td>0</td>\n",
              "      <td>93826.63</td>\n",
              "      <td>0</td>\n",
              "      <td>0</td>\n",
              "      <td>0</td>\n",
              "      <td>0</td>\n",
              "    </tr>\n",
              "    <tr>\n",
              "      <th>4</th>\n",
              "      <td>850</td>\n",
              "      <td>43</td>\n",
              "      <td>2</td>\n",
              "      <td>125510.82</td>\n",
              "      <td>1</td>\n",
              "      <td>1</td>\n",
              "      <td>1</td>\n",
              "      <td>79084.10</td>\n",
              "      <td>0</td>\n",
              "      <td>0</td>\n",
              "      <td>1</td>\n",
              "      <td>0</td>\n",
              "    </tr>\n",
              "  </tbody>\n",
              "</table>\n",
              "</div>\n",
              "      <button class=\"colab-df-convert\" onclick=\"convertToInteractive('df-a8931e99-8b17-4a7a-84c0-2e9106b14d06')\"\n",
              "              title=\"Convert this dataframe to an interactive table.\"\n",
              "              style=\"display:none;\">\n",
              "        \n",
              "  <svg xmlns=\"http://www.w3.org/2000/svg\" height=\"24px\"viewBox=\"0 0 24 24\"\n",
              "       width=\"24px\">\n",
              "    <path d=\"M0 0h24v24H0V0z\" fill=\"none\"/>\n",
              "    <path d=\"M18.56 5.44l.94 2.06.94-2.06 2.06-.94-2.06-.94-.94-2.06-.94 2.06-2.06.94zm-11 1L8.5 8.5l.94-2.06 2.06-.94-2.06-.94L8.5 2.5l-.94 2.06-2.06.94zm10 10l.94 2.06.94-2.06 2.06-.94-2.06-.94-.94-2.06-.94 2.06-2.06.94z\"/><path d=\"M17.41 7.96l-1.37-1.37c-.4-.4-.92-.59-1.43-.59-.52 0-1.04.2-1.43.59L10.3 9.45l-7.72 7.72c-.78.78-.78 2.05 0 2.83L4 21.41c.39.39.9.59 1.41.59.51 0 1.02-.2 1.41-.59l7.78-7.78 2.81-2.81c.8-.78.8-2.07 0-2.86zM5.41 20L4 18.59l7.72-7.72 1.47 1.35L5.41 20z\"/>\n",
              "  </svg>\n",
              "      </button>\n",
              "      \n",
              "  <style>\n",
              "    .colab-df-container {\n",
              "      display:flex;\n",
              "      flex-wrap:wrap;\n",
              "      gap: 12px;\n",
              "    }\n",
              "\n",
              "    .colab-df-convert {\n",
              "      background-color: #E8F0FE;\n",
              "      border: none;\n",
              "      border-radius: 50%;\n",
              "      cursor: pointer;\n",
              "      display: none;\n",
              "      fill: #1967D2;\n",
              "      height: 32px;\n",
              "      padding: 0 0 0 0;\n",
              "      width: 32px;\n",
              "    }\n",
              "\n",
              "    .colab-df-convert:hover {\n",
              "      background-color: #E2EBFA;\n",
              "      box-shadow: 0px 1px 2px rgba(60, 64, 67, 0.3), 0px 1px 3px 1px rgba(60, 64, 67, 0.15);\n",
              "      fill: #174EA6;\n",
              "    }\n",
              "\n",
              "    [theme=dark] .colab-df-convert {\n",
              "      background-color: #3B4455;\n",
              "      fill: #D2E3FC;\n",
              "    }\n",
              "\n",
              "    [theme=dark] .colab-df-convert:hover {\n",
              "      background-color: #434B5C;\n",
              "      box-shadow: 0px 1px 3px 1px rgba(0, 0, 0, 0.15);\n",
              "      filter: drop-shadow(0px 1px 2px rgba(0, 0, 0, 0.3));\n",
              "      fill: #FFFFFF;\n",
              "    }\n",
              "  </style>\n",
              "\n",
              "      <script>\n",
              "        const buttonEl =\n",
              "          document.querySelector('#df-a8931e99-8b17-4a7a-84c0-2e9106b14d06 button.colab-df-convert');\n",
              "        buttonEl.style.display =\n",
              "          google.colab.kernel.accessAllowed ? 'block' : 'none';\n",
              "\n",
              "        async function convertToInteractive(key) {\n",
              "          const element = document.querySelector('#df-a8931e99-8b17-4a7a-84c0-2e9106b14d06');\n",
              "          const dataTable =\n",
              "            await google.colab.kernel.invokeFunction('convertToInteractive',\n",
              "                                                     [key], {});\n",
              "          if (!dataTable) return;\n",
              "\n",
              "          const docLinkHtml = 'Like what you see? Visit the ' +\n",
              "            '<a target=\"_blank\" href=https://colab.research.google.com/notebooks/data_table.ipynb>data table notebook</a>'\n",
              "            + ' to learn more about interactive tables.';\n",
              "          element.innerHTML = '';\n",
              "          dataTable['output_type'] = 'display_data';\n",
              "          await google.colab.output.renderOutput(dataTable, element);\n",
              "          const docLink = document.createElement('div');\n",
              "          docLink.innerHTML = docLinkHtml;\n",
              "          element.appendChild(docLink);\n",
              "        }\n",
              "      </script>\n",
              "    </div>\n",
              "  </div>\n",
              "  "
            ]
          },
          "metadata": {},
          "execution_count": 31
        }
      ]
    },
    {
      "cell_type": "code",
      "source": [
        "feature = ['CreditScore','Age','Balance','EstimatedSalary']\n",
        "\n",
        "for i in feature:\n",
        "  display(sns.displot(df[i],kde=True))"
      ],
      "metadata": {
        "colab": {
          "base_uri": "https://localhost:8080/",
          "height": 1000
        },
        "id": "sNFvjUkK7Llu",
        "outputId": "ea4b0fbb-a16f-4d5c-c37d-a97dde38c2f3"
      },
      "execution_count": 51,
      "outputs": [
        {
          "output_type": "display_data",
          "data": {
            "text/plain": [
              "<seaborn.axisgrid.FacetGrid at 0x7f3665c93110>"
            ]
          },
          "metadata": {}
        },
        {
          "output_type": "display_data",
          "data": {
            "text/plain": [
              "<seaborn.axisgrid.FacetGrid at 0x7f3665b76350>"
            ]
          },
          "metadata": {}
        },
        {
          "output_type": "display_data",
          "data": {
            "text/plain": [
              "<seaborn.axisgrid.FacetGrid at 0x7f3665b8a610>"
            ]
          },
          "metadata": {}
        },
        {
          "output_type": "display_data",
          "data": {
            "text/plain": [
              "<seaborn.axisgrid.FacetGrid at 0x7f3665d70150>"
            ]
          },
          "metadata": {}
        },
        {
          "output_type": "display_data",
          "data": {
            "text/plain": [
              "<Figure size 360x360 with 1 Axes>"
            ],
            "image/png": "[encoded data removed]"
          },
          "metadata": {
            "needs_background": "light"
          }
        },
        {
          "output_type": "display_data",
          "data": {
            "text/plain": [
              "<Figure size 360x360 with 1 Axes>"
            ],
            "image/png": "[encoded data removed]"
          },
          "metadata": {
            "needs_background": "light"
          }
        },
        {
          "output_type": "display_data",
          "data": {
            "text/plain": [
              "<Figure size 360x360 with 1 Axes>"
            ],
            "image/png": "[encoded data removed]"
          },
          "metadata": {
            "needs_background": "light"
          }
        },
        {
          "output_type": "display_data",
          "data": {
            "text/plain": [
              "<Figure size 360x360 with 1 Axes>"
            ],
            "image/png": "[encoded data removed]"
          },
          "metadata": {
            "needs_background": "light"
          }
        }
      ]
    },
    {
      "cell_type": "code",
      "source": [],
      "metadata": {
        "id": "D_6ic64z7Lyn"
      },
      "execution_count": null,
      "outputs": []
    },
    {
      "cell_type": "code",
      "source": [
        "X = df.drop(columns='Exited')\n",
        "y = df['Exited'].values\n",
        "\n",
        "from sklearn.model_selection import train_test_split\n",
        "\n",
        "X_train,X_test,y_train,y_test = train_test_split(X,y,test_size=0.2,random_state=42)"
      ],
      "metadata": {
        "id": "jUrwsbHd3I_g"
      },
      "execution_count": 32,
      "outputs": []
    },
    {
      "cell_type": "code",
      "source": [
        "from sklearn.preprocessing import StandardScaler\n",
        "\n",
        "sc = StandardScaler()\n",
        "\n",
        "X_train_scaled = sc.fit_transform(X_train)\n",
        "X_test_scaled = sc.transform(X_test)"
      ],
      "metadata": {
        "id": "nTm959yV3lb0"
      },
      "execution_count": 34,
      "outputs": []
    },
    {
      "cell_type": "code",
      "source": [
        "import tensorflow\n",
        "from tensorflow import keras\n",
        "from tensorflow.keras import Sequential\n",
        "from tensorflow.keras.layers import Dense"
      ],
      "metadata": {
        "id": "gpxvdD-539DG"
      },
      "execution_count": 35,
      "outputs": []
    },
    {
      "cell_type": "code",
      "source": [
        "model = Sequential()\n",
        "\n",
        "model.add(Dense(11,activation='sigmoid',input_dim = 11))\n",
        "model.add(Dense(11,activation='relu'))\n",
        "model.add(Dense(1,activation='sigmoid'))"
      ],
      "metadata": {
        "id": "YVXD86c64RIM"
      },
      "execution_count": 36,
      "outputs": []
    },
    {
      "cell_type": "code",
      "source": [
        "model.summary()"
      ],
      "metadata": {
        "colab": {
          "base_uri": "https://localhost:8080/"
        },
        "id": "FwTvuw-U4yr3",
        "outputId": "2a0546ec-7b63-4ddf-ef97-95935a009a99"
      },
      "execution_count": 37,
      "outputs": [
        {
          "output_type": "stream",
          "name": "stdout",
          "text": [
            "Model: \"sequential\"\n",
            "_________________________________________________________________\n",
            " Layer (type)                Output Shape              Param #   \n",
            "=================================================================\n",
            " dense (Dense)               (None, 11)                132       \n",
            "                                                                 \n",
            " dense_1 (Dense)             (None, 11)                132       \n",
            "                                                                 \n",
            " dense_2 (Dense)             (None, 1)                 12        \n",
            "                                                                 \n",
            "=================================================================\n",
            "Total params: 276\n",
            "Trainable params: 276\n",
            "Non-trainable params: 0\n",
            "_________________________________________________________________\n"
          ]
        }
      ]
    },
    {
      "cell_type": "code",
      "source": [
        "model.compile(loss='binary_crossentropy',optimizer='Adam',metrics=['accuracy'])"
      ],
      "metadata": {
        "id": "1NFhgL6U41Kh"
      },
      "execution_count": 38,
      "outputs": []
    },
    {
      "cell_type": "code",
      "source": [
        "history = model.fit(X_train_scaled,y_train,batch_size=50,epochs=100,verbose=1,validation_split=0.2)"
      ],
      "metadata": {
        "colab": {
          "base_uri": "https://localhost:8080/"
        },
        "id": "SYHyhkTN5HzP",
        "outputId": "69a4bd0b-8b2c-4220-89eb-5854a3b1cafa"
      },
      "execution_count": 42,
      "outputs": [
        {
          "output_type": "stream",
          "name": "stdout",
          "text": [
            "Epoch 1/100\n",
            "128/128 [==============================] - 2s 4ms/step - loss: 0.5556 - accuracy: 0.7619 - val_loss: 0.4793 - val_accuracy: 0.7987\n",
            "Epoch 2/100\n",
            "128/128 [==============================] - 0s 3ms/step - loss: 0.4776 - accuracy: 0.7934 - val_loss: 0.4575 - val_accuracy: 0.7987\n",
            "Epoch 3/100\n",
            "128/128 [==============================] - 0s 2ms/step - loss: 0.4591 - accuracy: 0.7934 - val_loss: 0.4399 - val_accuracy: 0.7987\n",
            "Epoch 4/100\n",
            "128/128 [==============================] - 0s 3ms/step - loss: 0.4436 - accuracy: 0.7942 - val_loss: 0.4261 - val_accuracy: 0.8056\n",
            "Epoch 5/100\n",
            "128/128 [==============================] - 0s 3ms/step - loss: 0.4309 - accuracy: 0.8030 - val_loss: 0.4165 - val_accuracy: 0.8219\n",
            "Epoch 6/100\n",
            "128/128 [==============================] - 0s 3ms/step - loss: 0.4212 - accuracy: 0.8142 - val_loss: 0.4077 - val_accuracy: 0.8219\n",
            "Epoch 7/100\n",
            "128/128 [==============================] - 0s 3ms/step - loss: 0.4121 - accuracy: 0.8177 - val_loss: 0.3995 - val_accuracy: 0.8275\n",
            "Epoch 8/100\n",
            "128/128 [==============================] - 0s 3ms/step - loss: 0.4033 - accuracy: 0.8223 - val_loss: 0.3913 - val_accuracy: 0.8275\n",
            "Epoch 9/100\n",
            "128/128 [==============================] - 0s 3ms/step - loss: 0.3944 - accuracy: 0.8283 - val_loss: 0.3846 - val_accuracy: 0.8369\n",
            "Epoch 10/100\n",
            "128/128 [==============================] - 0s 3ms/step - loss: 0.3864 - accuracy: 0.8359 - val_loss: 0.3775 - val_accuracy: 0.8406\n",
            "Epoch 11/100\n",
            "128/128 [==============================] - 0s 2ms/step - loss: 0.3787 - accuracy: 0.8406 - val_loss: 0.3717 - val_accuracy: 0.8425\n",
            "Epoch 12/100\n",
            "128/128 [==============================] - 0s 3ms/step - loss: 0.3716 - accuracy: 0.8466 - val_loss: 0.3663 - val_accuracy: 0.8475\n",
            "Epoch 13/100\n",
            "128/128 [==============================] - 0s 3ms/step - loss: 0.3662 - accuracy: 0.8508 - val_loss: 0.3622 - val_accuracy: 0.8512\n",
            "Epoch 14/100\n",
            "128/128 [==============================] - 0s 3ms/step - loss: 0.3617 - accuracy: 0.8530 - val_loss: 0.3596 - val_accuracy: 0.8550\n",
            "Epoch 15/100\n",
            "128/128 [==============================] - 0s 2ms/step - loss: 0.3584 - accuracy: 0.8544 - val_loss: 0.3560 - val_accuracy: 0.8550\n",
            "Epoch 16/100\n",
            "128/128 [==============================] - 0s 2ms/step - loss: 0.3552 - accuracy: 0.8550 - val_loss: 0.3538 - val_accuracy: 0.8544\n",
            "Epoch 17/100\n",
            "128/128 [==============================] - 0s 2ms/step - loss: 0.3527 - accuracy: 0.8558 - val_loss: 0.3522 - val_accuracy: 0.8581\n",
            "Epoch 18/100\n",
            "128/128 [==============================] - 0s 2ms/step - loss: 0.3505 - accuracy: 0.8569 - val_loss: 0.3514 - val_accuracy: 0.8550\n",
            "Epoch 19/100\n",
            "128/128 [==============================] - 0s 3ms/step - loss: 0.3493 - accuracy: 0.8580 - val_loss: 0.3499 - val_accuracy: 0.8544\n",
            "Epoch 20/100\n",
            "128/128 [==============================] - 0s 3ms/step - loss: 0.3478 - accuracy: 0.8598 - val_loss: 0.3487 - val_accuracy: 0.8581\n",
            "Epoch 21/100\n",
            "128/128 [==============================] - 0s 3ms/step - loss: 0.3469 - accuracy: 0.8597 - val_loss: 0.3481 - val_accuracy: 0.8581\n",
            "Epoch 22/100\n",
            "128/128 [==============================] - 0s 3ms/step - loss: 0.3459 - accuracy: 0.8603 - val_loss: 0.3473 - val_accuracy: 0.8562\n",
            "Epoch 23/100\n",
            "128/128 [==============================] - 0s 3ms/step - loss: 0.3449 - accuracy: 0.8587 - val_loss: 0.3471 - val_accuracy: 0.8537\n",
            "Epoch 24/100\n",
            "128/128 [==============================] - 0s 3ms/step - loss: 0.3440 - accuracy: 0.8598 - val_loss: 0.3461 - val_accuracy: 0.8562\n",
            "Epoch 25/100\n",
            "128/128 [==============================] - 0s 3ms/step - loss: 0.3436 - accuracy: 0.8581 - val_loss: 0.3474 - val_accuracy: 0.8594\n",
            "Epoch 26/100\n",
            "128/128 [==============================] - 0s 2ms/step - loss: 0.3437 - accuracy: 0.8605 - val_loss: 0.3448 - val_accuracy: 0.8569\n",
            "Epoch 27/100\n",
            "128/128 [==============================] - 0s 3ms/step - loss: 0.3424 - accuracy: 0.8598 - val_loss: 0.3445 - val_accuracy: 0.8575\n",
            "Epoch 28/100\n",
            "128/128 [==============================] - 0s 3ms/step - loss: 0.3417 - accuracy: 0.8598 - val_loss: 0.3437 - val_accuracy: 0.8562\n",
            "Epoch 29/100\n",
            "128/128 [==============================] - 0s 2ms/step - loss: 0.3413 - accuracy: 0.8602 - val_loss: 0.3440 - val_accuracy: 0.8562\n",
            "Epoch 30/100\n",
            "128/128 [==============================] - 0s 3ms/step - loss: 0.3412 - accuracy: 0.8597 - val_loss: 0.3427 - val_accuracy: 0.8594\n",
            "Epoch 31/100\n",
            "128/128 [==============================] - 0s 3ms/step - loss: 0.3397 - accuracy: 0.8611 - val_loss: 0.3443 - val_accuracy: 0.8569\n",
            "Epoch 32/100\n",
            "128/128 [==============================] - 0s 3ms/step - loss: 0.3400 - accuracy: 0.8609 - val_loss: 0.3428 - val_accuracy: 0.8569\n",
            "Epoch 33/100\n",
            "128/128 [==============================] - 0s 2ms/step - loss: 0.3393 - accuracy: 0.8589 - val_loss: 0.3430 - val_accuracy: 0.8600\n",
            "Epoch 34/100\n",
            "128/128 [==============================] - 0s 2ms/step - loss: 0.3392 - accuracy: 0.8595 - val_loss: 0.3420 - val_accuracy: 0.8575\n",
            "Epoch 35/100\n",
            "128/128 [==============================] - 0s 3ms/step - loss: 0.3388 - accuracy: 0.8608 - val_loss: 0.3417 - val_accuracy: 0.8550\n",
            "Epoch 36/100\n",
            "128/128 [==============================] - 0s 3ms/step - loss: 0.3386 - accuracy: 0.8608 - val_loss: 0.3415 - val_accuracy: 0.8562\n",
            "Epoch 37/100\n",
            "128/128 [==============================] - 0s 2ms/step - loss: 0.3382 - accuracy: 0.8600 - val_loss: 0.3411 - val_accuracy: 0.8562\n",
            "Epoch 38/100\n",
            "128/128 [==============================] - 0s 2ms/step - loss: 0.3376 - accuracy: 0.8616 - val_loss: 0.3408 - val_accuracy: 0.8594\n",
            "Epoch 39/100\n",
            "128/128 [==============================] - 0s 3ms/step - loss: 0.3375 - accuracy: 0.8616 - val_loss: 0.3409 - val_accuracy: 0.8587\n",
            "Epoch 40/100\n",
            "128/128 [==============================] - 0s 3ms/step - loss: 0.3376 - accuracy: 0.8609 - val_loss: 0.3402 - val_accuracy: 0.8600\n",
            "Epoch 41/100\n",
            "128/128 [==============================] - 0s 3ms/step - loss: 0.3372 - accuracy: 0.8611 - val_loss: 0.3406 - val_accuracy: 0.8562\n",
            "Epoch 42/100\n",
            "128/128 [==============================] - 0s 2ms/step - loss: 0.3368 - accuracy: 0.8616 - val_loss: 0.3402 - val_accuracy: 0.8600\n",
            "Epoch 43/100\n",
            "128/128 [==============================] - 0s 3ms/step - loss: 0.3365 - accuracy: 0.8602 - val_loss: 0.3399 - val_accuracy: 0.8606\n",
            "Epoch 44/100\n",
            "128/128 [==============================] - 0s 3ms/step - loss: 0.3359 - accuracy: 0.8614 - val_loss: 0.3403 - val_accuracy: 0.8550\n",
            "Epoch 45/100\n",
            "128/128 [==============================] - 0s 3ms/step - loss: 0.3359 - accuracy: 0.8611 - val_loss: 0.3399 - val_accuracy: 0.8575\n",
            "Epoch 46/100\n",
            "128/128 [==============================] - 0s 3ms/step - loss: 0.3356 - accuracy: 0.8614 - val_loss: 0.3402 - val_accuracy: 0.8600\n",
            "Epoch 47/100\n",
            "128/128 [==============================] - 0s 2ms/step - loss: 0.3360 - accuracy: 0.8611 - val_loss: 0.3397 - val_accuracy: 0.8600\n",
            "Epoch 48/100\n",
            "128/128 [==============================] - 0s 3ms/step - loss: 0.3352 - accuracy: 0.8622 - val_loss: 0.3399 - val_accuracy: 0.8575\n",
            "Epoch 49/100\n",
            "128/128 [==============================] - 0s 3ms/step - loss: 0.3352 - accuracy: 0.8623 - val_loss: 0.3401 - val_accuracy: 0.8581\n",
            "Epoch 50/100\n",
            "128/128 [==============================] - 0s 3ms/step - loss: 0.3345 - accuracy: 0.8611 - val_loss: 0.3397 - val_accuracy: 0.8581\n",
            "Epoch 51/100\n",
            "128/128 [==============================] - 0s 3ms/step - loss: 0.3347 - accuracy: 0.8611 - val_loss: 0.3399 - val_accuracy: 0.8575\n",
            "Epoch 52/100\n",
            "128/128 [==============================] - 1s 4ms/step - loss: 0.3342 - accuracy: 0.8627 - val_loss: 0.3393 - val_accuracy: 0.8600\n",
            "Epoch 53/100\n",
            "128/128 [==============================] - 1s 4ms/step - loss: 0.3342 - accuracy: 0.8623 - val_loss: 0.3391 - val_accuracy: 0.8606\n",
            "Epoch 54/100\n",
            "128/128 [==============================] - 0s 4ms/step - loss: 0.3341 - accuracy: 0.8625 - val_loss: 0.3397 - val_accuracy: 0.8575\n",
            "Epoch 55/100\n",
            "128/128 [==============================] - 1s 4ms/step - loss: 0.3341 - accuracy: 0.8617 - val_loss: 0.3389 - val_accuracy: 0.8587\n",
            "Epoch 56/100\n",
            "128/128 [==============================] - 1s 4ms/step - loss: 0.3337 - accuracy: 0.8628 - val_loss: 0.3390 - val_accuracy: 0.8587\n",
            "Epoch 57/100\n",
            "128/128 [==============================] - 0s 3ms/step - loss: 0.3335 - accuracy: 0.8608 - val_loss: 0.3400 - val_accuracy: 0.8581\n",
            "Epoch 58/100\n",
            "128/128 [==============================] - 0s 3ms/step - loss: 0.3334 - accuracy: 0.8625 - val_loss: 0.3396 - val_accuracy: 0.8594\n",
            "Epoch 59/100\n",
            "128/128 [==============================] - 0s 3ms/step - loss: 0.3339 - accuracy: 0.8627 - val_loss: 0.3400 - val_accuracy: 0.8594\n",
            "Epoch 60/100\n",
            "128/128 [==============================] - 0s 3ms/step - loss: 0.3332 - accuracy: 0.8619 - val_loss: 0.3387 - val_accuracy: 0.8606\n",
            "Epoch 61/100\n",
            "128/128 [==============================] - 0s 3ms/step - loss: 0.3328 - accuracy: 0.8619 - val_loss: 0.3399 - val_accuracy: 0.8612\n",
            "Epoch 62/100\n",
            "128/128 [==============================] - 0s 3ms/step - loss: 0.3332 - accuracy: 0.8609 - val_loss: 0.3386 - val_accuracy: 0.8606\n",
            "Epoch 63/100\n",
            "128/128 [==============================] - 0s 3ms/step - loss: 0.3328 - accuracy: 0.8622 - val_loss: 0.3391 - val_accuracy: 0.8606\n",
            "Epoch 64/100\n",
            "128/128 [==============================] - 0s 3ms/step - loss: 0.3325 - accuracy: 0.8614 - val_loss: 0.3382 - val_accuracy: 0.8600\n",
            "Epoch 65/100\n",
            "128/128 [==============================] - 0s 3ms/step - loss: 0.3323 - accuracy: 0.8633 - val_loss: 0.3411 - val_accuracy: 0.8612\n",
            "Epoch 66/100\n",
            "128/128 [==============================] - 0s 3ms/step - loss: 0.3324 - accuracy: 0.8616 - val_loss: 0.3386 - val_accuracy: 0.8612\n",
            "Epoch 67/100\n",
            "128/128 [==============================] - 0s 3ms/step - loss: 0.3324 - accuracy: 0.8622 - val_loss: 0.3385 - val_accuracy: 0.8612\n",
            "Epoch 68/100\n",
            "128/128 [==============================] - 0s 3ms/step - loss: 0.3322 - accuracy: 0.8630 - val_loss: 0.3388 - val_accuracy: 0.8594\n",
            "Epoch 69/100\n",
            "128/128 [==============================] - 0s 2ms/step - loss: 0.3325 - accuracy: 0.8631 - val_loss: 0.3388 - val_accuracy: 0.8594\n",
            "Epoch 70/100\n",
            "128/128 [==============================] - 0s 3ms/step - loss: 0.3315 - accuracy: 0.8627 - val_loss: 0.3387 - val_accuracy: 0.8600\n",
            "Epoch 71/100\n",
            "128/128 [==============================] - 0s 3ms/step - loss: 0.3315 - accuracy: 0.8622 - val_loss: 0.3387 - val_accuracy: 0.8606\n",
            "Epoch 72/100\n",
            "128/128 [==============================] - 0s 3ms/step - loss: 0.3314 - accuracy: 0.8636 - val_loss: 0.3401 - val_accuracy: 0.8581\n",
            "Epoch 73/100\n",
            "128/128 [==============================] - 0s 3ms/step - loss: 0.3314 - accuracy: 0.8625 - val_loss: 0.3387 - val_accuracy: 0.8581\n",
            "Epoch 74/100\n",
            "128/128 [==============================] - 0s 3ms/step - loss: 0.3308 - accuracy: 0.8630 - val_loss: 0.3392 - val_accuracy: 0.8569\n",
            "Epoch 75/100\n",
            "128/128 [==============================] - 0s 3ms/step - loss: 0.3309 - accuracy: 0.8623 - val_loss: 0.3406 - val_accuracy: 0.8625\n",
            "Epoch 76/100\n",
            "128/128 [==============================] - 0s 3ms/step - loss: 0.3310 - accuracy: 0.8644 - val_loss: 0.3389 - val_accuracy: 0.8612\n",
            "Epoch 77/100\n",
            "128/128 [==============================] - 0s 2ms/step - loss: 0.3307 - accuracy: 0.8631 - val_loss: 0.3392 - val_accuracy: 0.8587\n",
            "Epoch 78/100\n",
            "128/128 [==============================] - 0s 3ms/step - loss: 0.3308 - accuracy: 0.8631 - val_loss: 0.3385 - val_accuracy: 0.8619\n",
            "Epoch 79/100\n",
            "128/128 [==============================] - 0s 3ms/step - loss: 0.3309 - accuracy: 0.8644 - val_loss: 0.3388 - val_accuracy: 0.8606\n",
            "Epoch 80/100\n",
            "128/128 [==============================] - 0s 2ms/step - loss: 0.3304 - accuracy: 0.8628 - val_loss: 0.3391 - val_accuracy: 0.8606\n",
            "Epoch 81/100\n",
            "128/128 [==============================] - 0s 3ms/step - loss: 0.3306 - accuracy: 0.8627 - val_loss: 0.3388 - val_accuracy: 0.8600\n",
            "Epoch 82/100\n",
            "128/128 [==============================] - 0s 3ms/step - loss: 0.3307 - accuracy: 0.8633 - val_loss: 0.3393 - val_accuracy: 0.8612\n",
            "Epoch 83/100\n",
            "128/128 [==============================] - 0s 2ms/step - loss: 0.3302 - accuracy: 0.8628 - val_loss: 0.3408 - val_accuracy: 0.8619\n",
            "Epoch 84/100\n",
            "128/128 [==============================] - 0s 2ms/step - loss: 0.3306 - accuracy: 0.8627 - val_loss: 0.3387 - val_accuracy: 0.8594\n",
            "Epoch 85/100\n",
            "128/128 [==============================] - 0s 3ms/step - loss: 0.3298 - accuracy: 0.8639 - val_loss: 0.3386 - val_accuracy: 0.8600\n",
            "Epoch 86/100\n",
            "128/128 [==============================] - 0s 2ms/step - loss: 0.3297 - accuracy: 0.8652 - val_loss: 0.3399 - val_accuracy: 0.8606\n",
            "Epoch 87/100\n",
            "128/128 [==============================] - 0s 3ms/step - loss: 0.3300 - accuracy: 0.8633 - val_loss: 0.3394 - val_accuracy: 0.8612\n",
            "Epoch 88/100\n",
            "128/128 [==============================] - 0s 3ms/step - loss: 0.3299 - accuracy: 0.8637 - val_loss: 0.3393 - val_accuracy: 0.8587\n",
            "Epoch 89/100\n",
            "128/128 [==============================] - 0s 2ms/step - loss: 0.3298 - accuracy: 0.8644 - val_loss: 0.3394 - val_accuracy: 0.8612\n",
            "Epoch 90/100\n",
            "128/128 [==============================] - 0s 3ms/step - loss: 0.3290 - accuracy: 0.8644 - val_loss: 0.3394 - val_accuracy: 0.8594\n",
            "Epoch 91/100\n",
            "128/128 [==============================] - 0s 3ms/step - loss: 0.3299 - accuracy: 0.8655 - val_loss: 0.3403 - val_accuracy: 0.8575\n",
            "Epoch 92/100\n",
            "128/128 [==============================] - 0s 3ms/step - loss: 0.3298 - accuracy: 0.8634 - val_loss: 0.3389 - val_accuracy: 0.8600\n",
            "Epoch 93/100\n",
            "128/128 [==============================] - 0s 3ms/step - loss: 0.3294 - accuracy: 0.8630 - val_loss: 0.3388 - val_accuracy: 0.8594\n",
            "Epoch 94/100\n",
            "128/128 [==============================] - 0s 3ms/step - loss: 0.3287 - accuracy: 0.8645 - val_loss: 0.3395 - val_accuracy: 0.8587\n",
            "Epoch 95/100\n",
            "128/128 [==============================] - 0s 3ms/step - loss: 0.3289 - accuracy: 0.8647 - val_loss: 0.3389 - val_accuracy: 0.8612\n",
            "Epoch 96/100\n",
            "128/128 [==============================] - 0s 3ms/step - loss: 0.3282 - accuracy: 0.8650 - val_loss: 0.3431 - val_accuracy: 0.8600\n",
            "Epoch 97/100\n",
            "128/128 [==============================] - 0s 3ms/step - loss: 0.3291 - accuracy: 0.8645 - val_loss: 0.3388 - val_accuracy: 0.8606\n",
            "Epoch 98/100\n",
            "128/128 [==============================] - 0s 3ms/step - loss: 0.3287 - accuracy: 0.8645 - val_loss: 0.3390 - val_accuracy: 0.8600\n",
            "Epoch 99/100\n",
            "128/128 [==============================] - 0s 2ms/step - loss: 0.3283 - accuracy: 0.8639 - val_loss: 0.3388 - val_accuracy: 0.8587\n",
            "Epoch 100/100\n",
            "128/128 [==============================] - 0s 2ms/step - loss: 0.3285 - accuracy: 0.8659 - val_loss: 0.3390 - val_accuracy: 0.8612\n"
          ]
        }
      ]
    },
    {
      "cell_type": "code",
      "source": [
        "y_pred = model.predict(X_test)"
      ],
      "metadata": {
        "id": "YKq-xSBD6DdY"
      },
      "execution_count": 43,
      "outputs": []
    },
    {
      "cell_type": "code",
      "source": [
        "y_pred"
      ],
      "metadata": {
        "colab": {
          "base_uri": "https://localhost:8080/"
        },
        "id": "7nquHVt-6Wlg",
        "outputId": "17d05671-38d2-4807-d92e-c61e8f842d82"
      },
      "execution_count": 44,
      "outputs": [
        {
          "output_type": "execute_result",
          "data": {
            "text/plain": [
              "array([[0.18617108],\n",
              "       [0.05557516],\n",
              "       [0.05557516],\n",
              "       ...,\n",
              "       [0.05557516],\n",
              "       [0.05557516],\n",
              "       [0.18617108]], dtype=float32)"
            ]
          },
          "metadata": {},
          "execution_count": 44
        }
      ]
    },
    {
      "cell_type": "code",
      "source": [
        "y_pred = y_pred.argmax(axis=1)"
      ],
      "metadata": {
        "id": "uQHpV-iK6XrU"
      },
      "execution_count": 45,
      "outputs": []
    },
    {
      "cell_type": "code",
      "source": [
        "from sklearn.metrics import accuracy_score\n",
        "accuracy_score(y_test,y_pred)"
      ],
      "metadata": {
        "colab": {
          "base_uri": "https://localhost:8080/"
        },
        "id": "kPwqnbp46gLL",
        "outputId": "ae37c833-bca2-4d44-b750-227ca3d26f94"
      },
      "execution_count": 46,
      "outputs": [
        {
          "output_type": "execute_result",
          "data": {
            "text/plain": [
              "0.8035"
            ]
          },
          "metadata": {},
          "execution_count": 46
        }
      ]
    },
    {
      "cell_type": "code",
      "source": [
        "plt.plot(history.history['loss'])\n",
        "plt.plot(history.history['val_loss'])"
      ],
      "metadata": {
        "colab": {
          "base_uri": "https://localhost:8080/",
          "height": 282
        },
        "id": "YghxlhSu6npv",
        "outputId": "d062db8a-634f-4e5c-d582-16a7b2d2a487"
      },
      "execution_count": 49,
      "outputs": [
        {
          "output_type": "execute_result",
          "data": {
            "text/plain": [
              "[<matplotlib.lines.Line2D at 0x7f3665cb7650>]"
            ]
          },
          "metadata": {},
          "execution_count": 49
        },
        {
          "output_type": "display_data",
          "data": {
            "text/plain": [
              "<Figure size 432x288 with 1 Axes>"
            ],
            "image/png": "[encoded data removed]"
          },
          "metadata": {
            "needs_background": "light"
          }
        }
      ]
    },
    {
      "cell_type": "code",
      "source": [
        "plt.plot(history.history['accuracy'])\n",
        "plt.plot(history.history['val_accuracy'])"
      ],
      "metadata": {
        "colab": {
          "base_uri": "https://localhost:8080/",
          "height": 282
        },
        "id": "3bnQavVG6u-n",
        "outputId": "7c35271d-5651-4345-8b27-71fbb52c00ff"
      },
      "execution_count": 50,
      "outputs": [
        {
          "output_type": "execute_result",
          "data": {
            "text/plain": [
              "[<matplotlib.lines.Line2D at 0x7f3665bf1810>]"
            ]
          },
          "metadata": {},
          "execution_count": 50
        },
        {
          "output_type": "display_data",
          "data": {
            "text/plain": [
              "<Figure size 432x288 with 1 Axes>"
            ],
            "image/png": "[encoded data removed]"
          },
          "metadata": {
            "needs_background": "light"
          }
        }
      ]
    },
    {
      "cell_type": "code",
      "source": [],
      "metadata": {
        "id": "TgPmtLsy6_yp"
      },
      "execution_count": null,
      "outputs": []
    }
  ]
}